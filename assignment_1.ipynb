{
 "cells": [
  {
   "cell_type": "markdown",
   "id": "2d1b4d20-7600-414e-ad58-832a9e2bcb16",
   "metadata": {},
   "source": [
    "# Assignment #1 - Isaac Braun\n",
    "Four (4) interesting findings on the [Twitter US Airline Sentiment](https://www.kaggle.com/datasets/crowdflower/twitter-airline-sentiment?resource=download) data using [spaCy](spacy.io).\n",
    "\n",
    "## Setup"
   ]
  },
  {
   "cell_type": "code",
   "execution_count": 33,
   "id": "2a4b80dd-c83c-4977-84ab-a63eecf0f8c9",
   "metadata": {},
   "outputs": [],
   "source": [
    "# Import packages and load model\n",
    "import spacy\n",
    "from collections import Counter\n",
    "from spacy.matcher import Matcher\n",
    "from spacy.tokens import Doc\n",
    "import pandas as pd\n",
    "\n",
    "nlp = spacy.load(\"en_core_web_md\")\n",
    "\n",
    "# Load Data\n",
    "raw = pd.read_csv('data/airline_tweets_raw.csv')\n",
    "# Limit tweets to 9000 rows and convert to list\n",
    "limited = raw.iloc[0:9000].text.tolist()\n",
    "\n",
    "docs = [nlp(tweet) for tweet in limited]"
   ]
  },
  {
   "cell_type": "markdown",
   "id": "390e205e-6401-4353-aff4-b02af3654dfd",
   "metadata": {},
   "source": [
    "# #1 - Find Most Common Tokens"
   ]
  },
  {
   "cell_type": "code",
   "execution_count": 34,
   "id": "3e45bb6d-cc45-4f4b-b185-c6e3aec273ee",
   "metadata": {},
   "outputs": [
    {
     "data": {
      "text/plain": [
       "[('@united', 3703),\n",
       " ('@SouthwestAir', 2379),\n",
       " ('@JetBlue', 2167),\n",
       " ('flight', 1830),\n",
       " ('Cancelled', 521),\n",
       " ('service', 508),\n",
       " ('@VirginAmerica', 491),\n",
       " ('time', 480),\n",
       " ('Flight', 430),\n",
       " ('flights', 400),\n",
       " ('customer', 388),\n",
       " ('help', 368),\n",
       " ('amp', 363),\n",
       " ('plane', 349),\n",
       " ('Thanks', 348),\n",
       " ('thanks', 329),\n",
       " ('delayed', 307),\n",
       " ('hours', 296),\n",
       " ('bag', 289),\n",
       " ('$', 271)]"
      ]
     },
     "execution_count": 34,
     "metadata": {},
     "output_type": "execute_result"
    }
   ],
   "source": [
    "# Strip out stop words, punctuation, numbers, and spaces\n",
    "words = [token.text for doc in docs for token in doc if token.is_stop != True and token.is_punct != True and token.is_digit != True and token.is_space != True]\n",
    "# words = [token.text for token in doc if token.is_stop != True and token.is_punct != True and token.is_digit != True and token.is_space != True]\n",
    "\n",
    "# Count the most common words\n",
    "common_words = Counter(words).most_common(20)\n",
    "common_words"
   ]
  },
  {
   "cell_type": "markdown",
   "id": "678977a5",
   "metadata": {},
   "source": [
    "\n",
    "# #2 - Find Global Mentions\n",
    "Find how many tweets have a period ('.') before the first account mention ('@'), with an optional space (' ') in between"
   ]
  },
  {
   "cell_type": "code",
   "execution_count": 38,
   "id": "0521755a",
   "metadata": {},
   "outputs": [
    {
     "name": "stdout",
     "output_type": "stream",
     "text": [
      "Number of Tweets with Global Mentions found: 64\n",
      "\n",
      ". @RenttheRunway\n",
      "http://t.co/FVUdmh27pF @TheNationalUAE\n",
      "http://t.co/DCoBoKN7EE @TheNationalUAE\n",
      "http://t.co/vw4P4T4tLh @TheNationalUAE\n",
      ". @flysaa\n",
      ". @imran_r44\n",
      ". @SouthwestAir\n",
      ". @seanMFmadden\n",
      ". @reagan\n",
      ". @BA_USA\n"
     ]
    }
   ],
   "source": [
    "global_matcher = Matcher(nlp.vocab)\n",
    "\n",
    "mention_pattern = [\n",
    "    [{'TEXT': {'REGEX': '\\.'}}, {'TEXT': {'REGEX': '@'}}],\n",
    "    [{'TEXT': {'REGEX': '\\.'}}, {'TEXT': {'REGEX': ' '}}, {'TEXT': {'REGEX': '@'}}]\n",
    "]\n",
    "\n",
    "global_matcher.add(\"GlobalMention\", mention_pattern)\n",
    "\n",
    "matched_docs = []\n",
    "\n",
    "for doc in docs:\n",
    "    matches = global_matcher(doc)\n",
    "    \n",
    "    # If matches found, append doc to matched_docs with matches\n",
    "    if matches:\n",
    "        matched_docs.append({\n",
    "            'doc': doc,\n",
    "            'matches': matches\n",
    "        })\n",
    "\n",
    "print(f\"Number of Tweets with Global Mentions found: {len(matched_docs)}\\n\")\n",
    "\n",
    "# Output sample of matched docs\n",
    "for i in range(0, 10):\n",
    "    for match_id, start, end in matched_docs[i]['matches']:\n",
    "        span = matched_docs[i]['doc'][start:end]\n",
    "        print(span.text)\n"
   ]
  },
  {
   "cell_type": "markdown",
   "id": "319fdeb8",
   "metadata": {},
   "source": [
    "# #3 - Find most similar tweets that describe airline service\n",
    "Match tweets (docs) that have an adjective before the word 'service' and then compare their similarity"
   ]
  },
  {
   "cell_type": "code",
   "execution_count": 80,
   "id": "94cab1ba",
   "metadata": {},
   "outputs": [
    {
     "name": "stdout",
     "output_type": "stream",
     "text": [
      "\n",
      "Number of Tweets with Adjective before 'service' found: 87\n",
      "\n",
      "\n",
      "Best Matched Docs Similarity: 0.923819155727016\n",
      "\n",
      "Doc 1: @united WORST SERVICE EVER. Denied access to our flight and then moved flight 6 times. How hard is it to schedule a gate? @Delta next time.\n",
      "\n",
      "Doc 2: @united flt 1583 EWR to SFO excellent service. Friendly flight attendants. made the 6AM flight a very good start to the day.\n",
      "\n"
     ]
    }
   ],
   "source": [
    "# Find phrases with adjective before the noun \"service\"\n",
    "def service_matches():\n",
    "    matcher = Matcher(nlp.vocab)\n",
    "    \n",
    "    service_pattern = [\n",
    "        [{'POS': 'ADJ'}, {'LOWER': 'service'}]\n",
    "    ]\n",
    "\n",
    "    matcher.add(\"ServicePattern\", service_pattern)\n",
    "\n",
    "    matched_docs = []\n",
    "\n",
    "    for doc in docs:\n",
    "        matches = matcher(doc)\n",
    "        \n",
    "        # If matches found, append doc to matched_docs with matches\n",
    "        if matches:\n",
    "            matched_docs.append(doc)\n",
    "            \n",
    "    return matched_docs\n",
    "\n",
    "# Find most similar docs from matched_docs\n",
    "def most_similar(docs):\n",
    "    best_match = {}\n",
    "    \n",
    "    def test_similarity(best_match, doc1, doc2):\n",
    "        similarity = doc1.similarity(doc2)\n",
    "       \n",
    "        if similarity > best_match.get('similarity', 0): \n",
    "            return {\n",
    "                'doc1': doc1,\n",
    "                'doc2': doc2,\n",
    "                'similarity': similarity\n",
    "            }\n",
    "        else:\n",
    "            return best_match\n",
    "\n",
    "    doc_len = len(docs)\n",
    "    \n",
    "    for idx in range(0, doc_len):\n",
    "        for jdx in range(0, doc_len):\n",
    "            # Skip if docs are the same\n",
    "            if idx != jdx:\n",
    "                best_match = test_similarity(best_match, docs[idx], docs[jdx])\n",
    "    \n",
    "    return best_match\n",
    "\n",
    "matched_docs = service_matches()\n",
    "print(f\"\\nNumber of Tweets with Adjective before 'service' found: {len(matched_docs)}\\n\\n\")\n",
    "\n",
    "best_match = most_similar(matched_docs)\n",
    "print(f\"Best Matched Docs Similarity: {best_match['similarity']}\\n\")\n",
    "print(f\"Doc 1: {best_match['doc1']}\\n\")\n",
    "print(f\"Doc 2: {best_match['doc2']}\\n\")\n",
    "    "
   ]
  },
  {
   "cell_type": "markdown",
   "id": "2dbeae2f",
   "metadata": {},
   "source": [
    "# #4 - What adjectives are dependencies of an airline handle?"
   ]
  },
  {
   "cell_type": "code",
   "execution_count": 77,
   "id": "23e68a22",
   "metadata": {},
   "outputs": [
    {
     "name": "stdout",
     "output_type": "stream",
     "text": [
      "@VirginAmerica :  [] \n",
      "\n",
      "@Delta :  [] \n",
      "\n",
      "@AmericanAir :  [] \n",
      "\n",
      "@SouthwestAir :  [] \n",
      "\n",
      "@JetBlue :  [('awesome', 2), ('great', 1), ('full', 1), ('sway', 1), ('correct', 1), ('sorry', 1), ('ridiculous', 1), ('lucky', 1), ('busy', 1)] \n",
      "\n",
      "@united :  [('tired', 1)] \n",
      "\n"
     ]
    }
   ],
   "source": [
    "# Find adjective dependencies for a given query\n",
    "def top_relations(query):\n",
    "    relations = Counter()\n",
    "    \n",
    "    for doc in docs:\n",
    "        for token in doc:\n",
    "            if token.dep_ == 'acomp' and token.head.text == query:\n",
    "                relations[token.text] += 1\n",
    "        \n",
    "    return relations.most_common(20)\n",
    "    \n",
    "# Output top dependency relations\n",
    "for query in ['@VirginAmerica', '@Delta', '@AmericanAir', '@SouthwestAir', '@JetBlue', '@united']:\n",
    "    print(query, ': ', top_relations(query), '\\n')"
   ]
  },
  {
   "cell_type": "code",
   "execution_count": null,
   "id": "5db319c0",
   "metadata": {},
   "outputs": [],
   "source": []
  }
 ],
 "metadata": {
  "kernelspec": {
   "display_name": "Python 3 (ipykernel)",
   "language": "python",
   "name": "python3"
  },
  "language_info": {
   "codemirror_mode": {
    "name": "ipython",
    "version": 3
   },
   "file_extension": ".py",
   "mimetype": "text/x-python",
   "name": "python",
   "nbconvert_exporter": "python",
   "pygments_lexer": "ipython3",
   "version": "3.11.1"
  }
 },
 "nbformat": 4,
 "nbformat_minor": 5
}
